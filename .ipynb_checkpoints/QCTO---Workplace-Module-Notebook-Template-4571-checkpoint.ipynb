{
 "cells": [
  {
   "cell_type": "markdown",
   "metadata": {},
   "source": [
    "# QCTO - Workplace Module\n",
    "\n",
    "### Project Title: Please Insert your Project Title Here\n",
    "#### Done By: Name and Surname\n",
    "\n",
    "© ExploreAI 2024\n",
    "\n",
    "---\n",
    "\n",
    "## Table of Contents\n",
    "\n",
    "<a href=#BC> Background Context</a>\n",
    "\n",
    "<a href=#one>1. Importing Packages</a>\n",
    "\n",
    "<a href=#two>2. Data Collection and Description</a>\n",
    "\n",
    "<a href=#three>3. Loading Data </a>\n",
    "\n",
    "<a href=#four>4. Data Cleaning and Filtering</a>\n",
    "\n",
    "<a href=#five>5. Exploratory Data Analysis (EDA)</a>\n",
    "\n",
    "<a href=#six>6. Modeling </a>\n",
    "\n",
    "<a href=#seven>7. Evaluation and Validation</a>\n",
    "\n",
    "<a href=#eight>8. Final Model</a>\n",
    "\n",
    "<a href=#nine>9. Conclusion and Future Work</a>\n",
    "\n",
    "<a href=#ten>10. References</a>"
   ]
  },
  {
   "cell_type": "markdown",
   "metadata": {},
   "source": [
    "---\n",
    " <a id=\"BC\"></a>\n",
    "## **Background Context**\n",
    "<a href=#cont>Back to Table of Contents</a>\n",
    "\n",
    "Water quality is a critical indicator of environmental health, directly impacting ecosystems, human populations, and overall sustainability. Among the various parameters used to assess water quality, turbidity—a measure of the clarity of water—plays a particularly crucial role. Elevated turbidity levels can signal the presence of contaminants, such as sediments, organic matter, and microbial pathogens, which can pose significant risks to public health, aquatic ecosystems, and water treatment processes. Therefore, understanding and predicting turbidity levels is essential for effective water resource management and safeguarding the quality of water supplies.\n",
    "\n",
    "In this analysis, I will leverage time series data to predict turbidity levels by analyzing various chemical and physical water quality indicators. Time series data, which consists of observations collected at regular time intervals, is invaluable for tracking temporal changes and identifying trends over time. By applying time series analysis, we can uncover patterns and correlations in historical data that inform predictive models, enabling us to forecast future turbidity levels with greater accuracy.\n",
    "\n",
    "Developing robust models to predict turbidity is of paramount importance. High turbidity not only compromises the aesthetic quality of water but also reduces the efficacy of disinfection processes in water treatment, potentially leading to the spread of waterborne diseases. Moreover, elevated turbidity can disrupt aquatic ecosystems by blocking sunlight, hindering photosynthesis, and smothering habitats. For water treatment facilities, high turbidity can result in increased operational costs and challenges in meeting regulatory standards.\n",
    "\n",
    "Through this study, the goal is to create a comprehensive model that can reliably predict turbidity levels, providing valuable insights for water quality management. By doing so, we can enhance our ability to preemptively address water quality issues, ensure compliance with environmental regulations, and ultimately protect public health and the environment."
   ]
  },
  {
   "cell_type": "markdown",
   "metadata": {},
   "source": [
    "---\n",
    "<a href=#one></a>\n",
    "## **Importing Packages**\n",
    "<a href=#cont>Back to Table of Contents</a>\n",
    "\n",
    "In Python, importing packages is essential because it allows us to leverage pre-written code that simplifies complex tasks. Instead of writing code from scratch, we can use these packages to streamline data manipulation, analysis, and visualization, saving time and effort.\n",
    "\n",
    "Pandas is a powerful library for data manipulation and analysis. It provides data structures like DataFrames, which are similar to tables in a database, making it easy to clean, transform, and analyze data. Pandas is essential for handling large datasets, performing operations like filtering, merging, and aggregating data efficiently.\n",
    "\n",
    "NumPy is the foundation for numerical computing in Python. It provides support for large, multi-dimensional arrays and matrices, along with a collection of mathematical functions to operate on these arrays. NumPy is highly efficient, making it indispensable for scientific computing, especially in operations that require heavy mathematical computations.\n",
    "\n",
    "Seaborn is a statistical data visualization library built on top of Matplotlib. It provides an easy-to-use interface for creating informative and attractive visualizations. Seaborn specializes in making complex plots, like heatmaps and time series plots, more accessible and aesthetically pleasing, which is crucial for understanding data trends and patterns.\n",
    "\n",
    "Matplotlib is a comprehensive library for creating static, animated, and interactive visualizations in Python. It’s highly customizable, allowing for the creation of a wide range of plots and charts. While Seaborn is built on Matplotlib, Matplotlib itself offers more control for users who need detailed customization of their visual outputs."
   ]
  },
  {
   "cell_type": "code",
   "execution_count": 6,
   "metadata": {},
   "outputs": [],
   "source": [
    "import numpy as np\n",
    "import pandas as pd\n",
    "import matplotlib.pyplot as plt\n",
    "import seaborn as sns\n",
    "from scipy.stats import zscore"
   ]
  },
  {
   "cell_type": "markdown",
   "metadata": {},
   "source": [
    "---\n",
    "<a href=#two></a>\n",
    "## **Data Collection and Description**\n",
    "<a href=#cont>Back to Table of Contents</a>\n",
    "\n",
    "### Purpose <a class=\"anchor\" id=\"section_1_1\"></a>\n",
    "\n",
    "The primary goal of this section is to describe the data collection process and provide an overview of the dataset's characteristics. Understanding the origin, methods of collection, and the nature of the data is crucial for contextualizing the analysis and ensuring the validity of any conclusions drawn.\n",
    "\n",
    "\n",
    "### Data Collection Process <a class=\"anchor\" id=\"section_1_1\"></a>\n",
    "\n",
    "The data was collected from an online source that provides water quality data, which includes both physical and chemical properties. This source offers public access to environmental data, ensuring transparency and availability for research and analysis. The data was directly downloaded from the source and saved onto the online repository of the project, where it can be easily accessed. \n",
    "\n",
    "### Dataset Overview <a class=\"anchor\" id=\"section_1_1\"></a>\n",
    "\n",
    "The dataset is composed of 16 columns and 219 rows, ranging from May 2023 to November 2023, providing a comprehensive view of various water quality parameters over time.\n",
    "\n",
    "Size and Scope: The dataset is relatively small in size, making it manageable for most data analysis tasks. It spans 219 observations, each representing a specific time point, as indicated by the inclusion of two datetime columns.\n",
    "\n",
    "### Data Types <a class=\"anchor\" id=\"section_1_1\"></a>\n",
    "\n",
    "Numerical Data: The dataset includes numerical variables, representing various physical and chemical measurements (e.g., turbidity, pH, temperature, hardness).\n",
    "\n",
    "Categorical Data: Categorical variables in dataset are the sampling point as well as the hardness classification. \n",
    "\n",
    "Temporal Information: The presence of two datetime columns suggests that the dataset tracks changes in water quality over time, which is vital for identifying trends or patterns in the data."
   ]
  },
  {
   "cell_type": "markdown",
   "metadata": {},
   "source": [
    "---\n",
    "<a href=#three></a>\n",
    "## **Loading Data**\n",
    "<a href=#cont>Back to Table of Contents</a>\n",
    "\n",
    "In this section we will load the data directly from the source and view the first five instances to get an overall view of the dataset. "
   ]
  },
  {
   "cell_type": "code",
   "execution_count": 10,
   "metadata": {},
   "outputs": [
    {
     "data": {
      "text/html": [
       "<div>\n",
       "<style scoped>\n",
       "    .dataframe tbody tr th:only-of-type {\n",
       "        vertical-align: middle;\n",
       "    }\n",
       "\n",
       "    .dataframe tbody tr th {\n",
       "        vertical-align: top;\n",
       "    }\n",
       "\n",
       "    .dataframe thead th {\n",
       "        text-align: right;\n",
       "    }\n",
       "</style>\n",
       "<table border=\"1\" class=\"dataframe\">\n",
       "  <thead>\n",
       "    <tr style=\"text-align: right;\">\n",
       "      <th></th>\n",
       "      <th>Date (DD/MM/YYYY)</th>\n",
       "      <th>Time (24 hrs XX:XX)</th>\n",
       "      <th>Sampling point</th>\n",
       "      <th>Ambient temperature (°C)</th>\n",
       "      <th>Ambient humidity</th>\n",
       "      <th>Sample temperature (°C)</th>\n",
       "      <th>pH</th>\n",
       "      <th>EC\\n(µS/cm)</th>\n",
       "      <th>TDS\\n(mg/L)</th>\n",
       "      <th>TSS\\n(mL sed/L)</th>\n",
       "      <th>DO\\n(mg/L)</th>\n",
       "      <th>Level (cm)</th>\n",
       "      <th>Turbidity (NTU)</th>\n",
       "      <th>Hardness\\n(mg CaCO3/L)</th>\n",
       "      <th>Hardness classification</th>\n",
       "      <th>Total Cl-\\n(mg Cl-/L)</th>\n",
       "    </tr>\n",
       "  </thead>\n",
       "  <tbody>\n",
       "    <tr>\n",
       "      <th>0</th>\n",
       "      <td>09/05/2023</td>\n",
       "      <td>14:15</td>\n",
       "      <td>Puente Bilbao</td>\n",
       "      <td>17.0</td>\n",
       "      <td>0.47</td>\n",
       "      <td>19.0</td>\n",
       "      <td>8.3</td>\n",
       "      <td>1630</td>\n",
       "      <td>810</td>\n",
       "      <td>1.8</td>\n",
       "      <td>4.30</td>\n",
       "      <td>NaN</td>\n",
       "      <td>NaN</td>\n",
       "      <td>147.0</td>\n",
       "      <td>BLANDA</td>\n",
       "      <td>156.0</td>\n",
       "    </tr>\n",
       "    <tr>\n",
       "      <th>1</th>\n",
       "      <td>14/06/2023</td>\n",
       "      <td>14:30</td>\n",
       "      <td>Puente Bilbao</td>\n",
       "      <td>11.9</td>\n",
       "      <td>0.47</td>\n",
       "      <td>13.0</td>\n",
       "      <td>8.1</td>\n",
       "      <td>1000</td>\n",
       "      <td>490</td>\n",
       "      <td>18.0</td>\n",
       "      <td>5.30</td>\n",
       "      <td>NaN</td>\n",
       "      <td>41.2</td>\n",
       "      <td>94.0</td>\n",
       "      <td>BLANDA</td>\n",
       "      <td>78.0</td>\n",
       "    </tr>\n",
       "    <tr>\n",
       "      <th>2</th>\n",
       "      <td>14/06/2023</td>\n",
       "      <td>14:30</td>\n",
       "      <td>Puente Bilbao</td>\n",
       "      <td>11.9</td>\n",
       "      <td>0.47</td>\n",
       "      <td>13.0</td>\n",
       "      <td>8.2</td>\n",
       "      <td>1000</td>\n",
       "      <td>490</td>\n",
       "      <td>18.0</td>\n",
       "      <td>4.67</td>\n",
       "      <td>NaN</td>\n",
       "      <td>38.9</td>\n",
       "      <td>86.0</td>\n",
       "      <td>BLANDA</td>\n",
       "      <td>82.0</td>\n",
       "    </tr>\n",
       "    <tr>\n",
       "      <th>3</th>\n",
       "      <td>14/06/2023</td>\n",
       "      <td>15:00</td>\n",
       "      <td>Arroyo_Las Torres</td>\n",
       "      <td>11.9</td>\n",
       "      <td>0.47</td>\n",
       "      <td>13.0</td>\n",
       "      <td>8.3</td>\n",
       "      <td>1350</td>\n",
       "      <td>670</td>\n",
       "      <td>0.1</td>\n",
       "      <td>7.01</td>\n",
       "      <td>NaN</td>\n",
       "      <td>30.7</td>\n",
       "      <td>200.0</td>\n",
       "      <td>SEMIDURA</td>\n",
       "      <td>117.0</td>\n",
       "    </tr>\n",
       "    <tr>\n",
       "      <th>4</th>\n",
       "      <td>14/06/2023</td>\n",
       "      <td>15:00</td>\n",
       "      <td>Arroyo_Las Torres</td>\n",
       "      <td>11.9</td>\n",
       "      <td>0.47</td>\n",
       "      <td>13.0</td>\n",
       "      <td>8.5</td>\n",
       "      <td>1350</td>\n",
       "      <td>660</td>\n",
       "      <td>0.1</td>\n",
       "      <td>7.23</td>\n",
       "      <td>NaN</td>\n",
       "      <td>25.6</td>\n",
       "      <td>196.0</td>\n",
       "      <td>SEMIDURA</td>\n",
       "      <td>117.0</td>\n",
       "    </tr>\n",
       "  </tbody>\n",
       "</table>\n",
       "</div>"
      ],
      "text/plain": [
       "  Date (DD/MM/YYYY) Time (24 hrs XX:XX)     Sampling point  \\\n",
       "0        09/05/2023               14:15      Puente Bilbao   \n",
       "1        14/06/2023               14:30      Puente Bilbao   \n",
       "2        14/06/2023               14:30      Puente Bilbao   \n",
       "3        14/06/2023               15:00  Arroyo_Las Torres   \n",
       "4        14/06/2023               15:00  Arroyo_Las Torres   \n",
       "\n",
       "   Ambient temperature (°C)  Ambient humidity  Sample temperature (°C)   pH  \\\n",
       "0                      17.0              0.47                     19.0  8.3   \n",
       "1                      11.9              0.47                     13.0  8.1   \n",
       "2                      11.9              0.47                     13.0  8.2   \n",
       "3                      11.9              0.47                     13.0  8.3   \n",
       "4                      11.9              0.47                     13.0  8.5   \n",
       "\n",
       "   EC\\n(µS/cm)  TDS\\n(mg/L)  TSS\\n(mL sed/L)  DO\\n(mg/L)  Level (cm)  \\\n",
       "0         1630          810              1.8        4.30         NaN   \n",
       "1         1000          490             18.0        5.30         NaN   \n",
       "2         1000          490             18.0        4.67         NaN   \n",
       "3         1350          670              0.1        7.01         NaN   \n",
       "4         1350          660              0.1        7.23         NaN   \n",
       "\n",
       "   Turbidity (NTU)  Hardness\\n(mg CaCO3/L) Hardness classification  \\\n",
       "0              NaN                   147.0                  BLANDA   \n",
       "1             41.2                    94.0                  BLANDA   \n",
       "2             38.9                    86.0                  BLANDA   \n",
       "3             30.7                   200.0                SEMIDURA   \n",
       "4             25.6                   196.0                SEMIDURA   \n",
       "\n",
       "   Total Cl-\\n(mg Cl-/L)  \n",
       "0                  156.0  \n",
       "1                   78.0  \n",
       "2                   82.0  \n",
       "3                  117.0  \n",
       "4                  117.0  "
      ]
     },
     "execution_count": 10,
     "metadata": {},
     "output_type": "execute_result"
    }
   ],
   "source": [
    "chem_data = pd.read_csv(\"https://raw.githubusercontent.com/LindelwaNdhlovu/Capstone-Project---River-Data/master/River%20water%20parameters%20(1).csv\")\n",
    "chem_data.head()"
   ]
  },
  {
   "cell_type": "markdown",
   "metadata": {},
   "source": [
    "---\n",
    "<a href=#four></a>\n",
    "## **Data Cleaning and Filtering**\n",
    "<a href=#cont>Back to Table of Contents</a>\n",
    "\n",
    "* **Purpose:** Prepare the data for analysis by cleaning and filtering.\n",
    "* **Details:** Include steps for handling missing values, removing outliers, correcting errors, and possibly reducing the data (filtering based on certain criteria or features).\n",
    "---"
   ]
  },
  {
   "cell_type": "code",
   "execution_count": null,
   "metadata": {},
   "outputs": [],
   "source": [
    "#Please use code cells to code in and do not forget to comment your code."
   ]
  },
  {
   "cell_type": "markdown",
   "metadata": {},
   "source": [
    "---\n",
    "<a href=#five></a>\n",
    "## **Exploratory Data Analysis (EDA)**\n",
    "<a href=#cont>Back to Table of Contents</a>\n",
    "\n",
    "* **Purpose:** Explore and visualize the data to uncover patterns, trends, and relationships.\n",
    "* **Details:** Use statistics and visualizations to explore the data. This may include histograms, box plots, scatter plots, and correlation matrices. Discuss any significant findings.\n",
    "---\n"
   ]
  },
  {
   "cell_type": "code",
   "execution_count": null,
   "metadata": {},
   "outputs": [],
   "source": [
    "#Please use code cells to code in and do not forget to comment your code."
   ]
  },
  {
   "cell_type": "markdown",
   "metadata": {},
   "source": [
    "---\n",
    "<a href=#six></a>\n",
    "## **Modeling**\n",
    "<a href=#cont>Back to Table of Contents</a>\n",
    "\n",
    "* **Purpose:** Develop and train predictive or statistical models.\n",
    "* **Details:** Describe the choice of models, feature selection and engineering processes, and show how the models are trained. Include code for setting up the models and explanations of the model parameters.\n",
    "---\n"
   ]
  },
  {
   "cell_type": "code",
   "execution_count": null,
   "metadata": {},
   "outputs": [],
   "source": [
    "#Please use code cells to code in and do not forget to comment your code."
   ]
  },
  {
   "cell_type": "markdown",
   "metadata": {},
   "source": [
    "---\n",
    "<a href=#seven></a>\n",
    "## **Evaluation and Validation**\n",
    "<a href=#cont>Back to Table of Contents</a>\n",
    "\n",
    "* **Purpose:** Evaluate and validate the effectiveness and accuracy of the models.\n",
    "* **Details:** Present metrics used to evaluate the models, such as accuracy, precision, recall, F1-score, etc. Discuss validation techniques employed, such as cross-validation or train/test split.\n",
    "---"
   ]
  },
  {
   "cell_type": "code",
   "execution_count": null,
   "metadata": {},
   "outputs": [],
   "source": [
    "#Please use code cells to code in and do not forget to comment your code."
   ]
  },
  {
   "cell_type": "markdown",
   "metadata": {},
   "source": [
    "---\n",
    "<a href=#eight></a>\n",
    "## **Final Model**\n",
    "<a href=#cont>Back to Table of Contents</a>\n",
    "\n",
    "* **Purpose:** Present the final model and its performance.\n",
    "* **Details:** Highlight the best-performing model and discuss its configuration, performance, and why it was chosen over others.\n",
    "---\n"
   ]
  },
  {
   "cell_type": "code",
   "execution_count": null,
   "metadata": {},
   "outputs": [],
   "source": [
    "#Please use code cells to code in and do not forget to comment your code."
   ]
  },
  {
   "cell_type": "markdown",
   "metadata": {},
   "source": [
    "---\n",
    "<a href=#nine></a>\n",
    "## **Conclusion and Future Work**\n",
    "<a href=#cont>Back to Table of Contents</a>\n",
    "\n",
    "* **Purpose:** Summarize the findings and discuss future directions.\n",
    "* **Details:** Conclude with a summary of the results, insights gained, limitations of the study, and suggestions for future projects or improvements in methodology or data collection.\n",
    "---\n"
   ]
  },
  {
   "cell_type": "code",
   "execution_count": null,
   "metadata": {},
   "outputs": [],
   "source": [
    "#Please use code cells to code in and do not forget to comment your code."
   ]
  },
  {
   "cell_type": "markdown",
   "metadata": {},
   "source": [
    "---\n",
    "<a href=#ten></a>\n",
    "## **References**\n",
    "<a href=#cont>Back to Table of Contents</a>\n",
    "\n",
    "* **Purpose:** Provide citations and sources of external content.\n",
    "* **Details:** List all the references and sources consulted during the project, including data sources, research papers, and documentation for tools and libraries used.\n",
    "---"
   ]
  },
  {
   "cell_type": "code",
   "execution_count": null,
   "metadata": {},
   "outputs": [],
   "source": [
    "#Please use code cells to code in and do not forget to comment your code."
   ]
  },
  {
   "cell_type": "markdown",
   "metadata": {},
   "source": [
    "## Additional Sections to Consider\n",
    "\n",
    "* ### Appendix: \n",
    "For any additional code, detailed tables, or extended data visualizations that are supplementary to the main content.\n",
    "\n",
    "* ### Contributors: \n",
    "If this is a group project, list the contributors and their roles or contributions to the project.\n"
   ]
  }
 ],
 "metadata": {
  "kernelspec": {
   "display_name": "Python 3 (ipykernel)",
   "language": "python",
   "name": "python3"
  },
  "language_info": {
   "codemirror_mode": {
    "name": "ipython",
    "version": 3
   },
   "file_extension": ".py",
   "mimetype": "text/x-python",
   "name": "python",
   "nbconvert_exporter": "python",
   "pygments_lexer": "ipython3",
   "version": "3.11.7"
  }
 },
 "nbformat": 4,
 "nbformat_minor": 4
}
